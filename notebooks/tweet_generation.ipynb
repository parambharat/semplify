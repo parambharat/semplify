{
 "cells": [
  {
   "cell_type": "code",
   "execution_count": 1,
   "id": "414e1d70",
   "metadata": {},
   "outputs": [
    {
     "name": "stderr",
     "output_type": "stream",
     "text": [
      "\u001b[34m\u001b[1mwandb\u001b[0m: Currently logged in as: \u001b[33mparambharat\u001b[0m. Use \u001b[1m`wandb login --relogin`\u001b[0m to force relogin\n"
     ]
    },
    {
     "data": {
      "text/html": [
       "Tracking run with wandb version 0.13.3"
      ],
      "text/plain": [
       "<IPython.core.display.HTML object>"
      ]
     },
     "metadata": {},
     "output_type": "display_data"
    },
    {
     "data": {
      "text/html": [
       "Run data is saved locally in <code>/media/mugan/data/wandb/projects/semplify/notebooks/wandb/run-20220926_141703-2j0emfyy</code>"
      ],
      "text/plain": [
       "<IPython.core.display.HTML object>"
      ]
     },
     "metadata": {},
     "output_type": "display_data"
    },
    {
     "data": {
      "text/html": [
       "Syncing run <strong><a href=\"https://wandb.ai/parambharat/semplify/runs/2j0emfyy\" target=\"_blank\">hardy-morning-33</a></strong> to <a href=\"https://wandb.ai/parambharat/semplify\" target=\"_blank\">Weights & Biases</a> (<a href=\"https://wandb.me/run\" target=\"_blank\">docs</a>)<br/>"
      ],
      "text/plain": [
       "<IPython.core.display.HTML object>"
      ]
     },
     "metadata": {},
     "output_type": "display_data"
    }
   ],
   "source": [
    "import wandb\n",
    "import pandas as pd\n",
    "import emoji\n",
    "\n",
    "run = wandb.init(project=\"semplify\")\n",
    "artifact = run.use_artifact('parambharat/semplify/predictions:v11', type='dataset')\n",
    "artifact_dir = artifact.download()"
   ]
  },
  {
   "cell_type": "code",
   "execution_count": 4,
   "id": "dc0d01ad",
   "metadata": {},
   "outputs": [],
   "source": [
    "artifact.wait()\n",
    "zeroshot_predictions_table = artifact.get(\"zeroshot_predictions-soft-sweep-12\")\n",
    "zeroshot_predictions_df = pd.DataFrame(\n",
    "    zeroshot_predictions_table.data, \n",
    "    columns=zeroshot_predictions_table.columns)"
   ]
  },
  {
   "cell_type": "code",
   "execution_count": 24,
   "id": "973ab4b7",
   "metadata": {},
   "outputs": [
    {
     "name": "stdout",
     "output_type": "stream",
     "text": [
      "⭐️ 0.12.2 released ⭐️\n",
      "\n",
      "⏲ Add `wandb.login()` timeout option\n",
      "\n",
      "💫 Add support for jupyter notebooks in launch\n",
      "\n",
      "🪲 Fix `wandb.login()` when relogin is specified\n",
      "🪲 Fix tensorboard_sync to handle ephemeral Sagemaker tfevents files\n",
      "\n",
      "`pip install wandb --upgrade`\n"
     ]
    },
    {
     "name": "stderr",
     "output_type": "stream",
     "text": [
      "wandb: Network error (ConnectionError), entering retry loop.\n",
      "wandb: Network error (ConnectionError), entering retry loop.\n"
     ]
    }
   ],
   "source": [
    "print(zeroshot_predictions_df[\"tweet\"][2])\n",
    "# zeroshot_predictions_df[\"predictions\"][1]"
   ]
  },
  {
   "cell_type": "code",
   "execution_count": 17,
   "id": "bd32af57",
   "metadata": {},
   "outputs": [
    {
     "name": "stdout",
     "output_type": "stream",
     "text": [
      "Bug Fix: Tensorflow/Keras 2.6 not logging validation examples.\n",
      "Fix metrics logged through tensorboard not supporting time on x-axis.\n",
      "Fix WANDB_IGNORE_GLOBS environment variable handling.\n",
      "Fix handling when sys.stdout is configured to a custom logger.\n",
      "Fix sklearn feature importance plots not matching feature names properly.\n"
     ]
    }
   ],
   "source": [
    "print(zeroshot_predictions_df[\"predictions\"][1][0])"
   ]
  },
  {
   "cell_type": "code",
   "execution_count": 23,
   "id": "e91407d5",
   "metadata": {},
   "outputs": [
    {
     "name": "stdout",
     "output_type": "stream",
     "text": [
      "Bug Fix, Enhancement, and New Feature in the Changelog for TensorBoard Sync: \n",
      "-Fix tensorboard_sync to handle ephemeral Sagemaker tfevents files \n",
      "-Fix Reports query from the public api (broken pagination and report path) \n",
      "-Fix wandb.login() when relogin is specified (only force login once)\n"
     ]
    }
   ],
   "source": [
    "print(zeroshot_predictions_df[\"predictions\"][2][4])"
   ]
  },
  {
   "cell_type": "code",
   "execution_count": 2,
   "id": "34452789",
   "metadata": {},
   "outputs": [],
   "source": [
    "artifact = run.use_artifact('parambharat/semplify/predictions:v39', type='dataset')\n",
    "artifact_dir = artifact.download()\n",
    "artifact.wait()\n",
    "oneshot_predictions_table = artifact.get(\"oneshot_predictions-dauntless-sweep-20\")\n",
    "oneshot_predictions_df = pd.DataFrame(\n",
    "    oneshot_predictions_table.data, \n",
    "    columns=oneshot_predictions_table.columns)"
   ]
  },
  {
   "cell_type": "code",
   "execution_count": 15,
   "id": "5d296a62",
   "metadata": {},
   "outputs": [],
   "source": [
    "tweet_text = oneshot_predictions_df[\"predictions\"][6][0]"
   ]
  },
  {
   "cell_type": "code",
   "execution_count": 18,
   "id": "d4a7d05e",
   "metadata": {},
   "outputs": [
    {
     "name": "stdout",
     "output_type": "stream",
     "text": [
      "0.12.21 is out with bug fixes and new features!\n",
      "\n",
      "4️⃣ new contributors!\n",
      "\n",
      "💫 Fixes config not showing up until the run finish\n",
      "💫 Adds new types to the TypeRegistry to handling artifact objects in jobs and run configs\n",
      "🐞 Fixes stats logger so it can find all the\n"
     ]
    }
   ],
   "source": [
    "print(emoji.emojize(tweet_text, language=\"alias\"))"
   ]
  },
  {
   "cell_type": "code",
   "execution_count": 19,
   "id": "b32771c4",
   "metadata": {},
   "outputs": [],
   "source": [
    "artifact = run.use_artifact('parambharat/semplify/predictions:v59', type='dataset')\n",
    "artifact_dir = artifact.download()\n",
    "artifact.wait()\n",
    "fewshot_predictions_table = artifact.get(\"fewshot_predictions-fine-sweep-29\")\n",
    "fewshot_predictions_df = pd.DataFrame(\n",
    "    fewshot_predictions_table.data, \n",
    "    columns=fewshot_predictions_table.columns)"
   ]
  },
  {
   "cell_type": "code",
   "execution_count": 20,
   "id": "39fad732",
   "metadata": {},
   "outputs": [
    {
     "data": {
      "text/plain": [
       "0    [Highlights:\\n\\n:dizzy: Support for Metaflow\\n...\n",
       "1    [:dizzy: Clean up footer output of summary and...\n",
       "2    [:dizzy: Add `wandb.require(experiment=\"servic...\n",
       "3    [:dizzy:Add wandb.Molecule support for rdkit s...\n",
       "4    [:dizzy: Add support for TensorFlow/Keras Save...\n",
       "5    [:dizzy: Launch: BareRunner based on LocalRunn...\n",
       "6    [:keycap_3: new contributors!\\n\\n:dizzy: Adds ...\n",
       "7    [:keycap_7: new contributors!\\n\\n:dizzy: Adds ...\n",
       "Name: predictions, dtype: object"
      ]
     },
     "execution_count": 20,
     "metadata": {},
     "output_type": "execute_result"
    }
   ],
   "source": [
    "fewshot_predictions_df[\"predictions\"]"
   ]
  },
  {
   "cell_type": "code",
   "execution_count": 57,
   "id": "d1e628d8",
   "metadata": {},
   "outputs": [],
   "source": [
    "idx = 7"
   ]
  },
  {
   "cell_type": "code",
   "execution_count": 58,
   "id": "ee07acc8",
   "metadata": {},
   "outputs": [],
   "source": [
    "tweet_text = fewshot_predictions_df[\"predictions\"][idx][2]\n",
    "actual_tweet = fewshot_predictions_df[\"tweet\"][idx]\n",
    "semver = fewshot_predictions_df[\"semver\"][idx]"
   ]
  },
  {
   "cell_type": "code",
   "execution_count": 59,
   "id": "fb5bfdd6",
   "metadata": {},
   "outputs": [
    {
     "name": "stdout",
     "output_type": "stream",
     "text": [
      "⭐️wandb 0.13.3 released⭐️\n",
      "\n",
      "7️⃣ new contributors!\n",
      "\n",
      "💫 Adds raytune examples / tests\n",
      "💫 Adds Sweeps on Launch Jobs for Kubernetes\n",
      "💫 Adds parallelism to functional testing\n",
      "🐞 Fixes accidental overwrite in config.yml\n",
      "\n",
      "`pip install wandb --upgrade`\n"
     ]
    }
   ],
   "source": [
    "full_tweet_text = (f\"⭐️wandb {semver} released⭐️\\n\\n\" +\n",
    "                   emoji.emojize(tweet_text, language=\"alias\") + \n",
    "                   \"\\n\\n`pip install wandb --upgrade`\")\n",
    "\n",
    "print(full_tweet_text)"
   ]
  },
  {
   "cell_type": "code",
   "execution_count": 60,
   "id": "487be2fb",
   "metadata": {},
   "outputs": [],
   "source": [
    "def get_concat_h(im1, im2):\n",
    "    dst = Image.new('RGB', (im1.width + im2.width, im1.height))\n",
    "    dst.paste(im1, (0, 0))\n",
    "    dst.paste(im2, (im1.width, 0))\n",
    "    return dst"
   ]
  },
  {
   "cell_type": "code",
   "execution_count": 63,
   "id": "09cb4733",
   "metadata": {},
   "outputs": [],
   "source": [
    "from PIL import Image\n",
    "tweet_1 = Image.open(\"../data/tweet-1.png\")\n",
    "tweet_2 = Image.open(\"../data/tweet-2.png\")\n",
    "tweet_3 = Image.open(\"../data/tweet-3.png\")\n",
    "\n",
    "tweet_1_2 = get_concat_h(tweet_1, tweet_2)\n",
    "tweet_1_2_3 = get_concat_h(tweet_1_2, tweet_3)\n",
    "tweet_1_2_3.save(\"../data/concated-tweets.png\")"
   ]
  },
  {
   "cell_type": "code",
   "execution_count": null,
   "id": "198e13eb",
   "metadata": {},
   "outputs": [],
   "source": []
  }
 ],
 "metadata": {
  "kernelspec": {
   "display_name": "Python 3 (ipykernel)",
   "language": "python",
   "name": "python3"
  },
  "language_info": {
   "codemirror_mode": {
    "name": "ipython",
    "version": 3
   },
   "file_extension": ".py",
   "mimetype": "text/x-python",
   "name": "python",
   "nbconvert_exporter": "python",
   "pygments_lexer": "ipython3",
   "version": "3.9.13"
  }
 },
 "nbformat": 4,
 "nbformat_minor": 5
}
