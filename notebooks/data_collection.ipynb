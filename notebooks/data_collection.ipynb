{
 "cells": [
  {
   "cell_type": "code",
   "execution_count": 1,
   "id": "dbe356af",
   "metadata": {},
   "outputs": [],
   "source": [
    "%load_ext dotenv\n",
    "%dotenv\n",
    "import os\n",
    "import markdown\n",
    "import wandb\n",
    "import pandas as pd\n",
    "from github import Github\n",
    "from packaging.version import Version"
   ]
  },
  {
   "cell_type": "code",
   "execution_count": 2,
   "id": "c7106dad",
   "metadata": {},
   "outputs": [],
   "source": [
    "PROJECT_NAME = \"semplify\"\n",
    "GH_USER=\"wandb\"\n",
    "GH_REPO=\"wandb\""
   ]
  },
  {
   "cell_type": "code",
   "execution_count": 3,
   "id": "624b825b",
   "metadata": {},
   "outputs": [
    {
     "name": "stderr",
     "output_type": "stream",
     "text": [
      "\u001B[34m\u001B[1mwandb\u001B[0m: Currently logged in as: \u001B[33mparambharat\u001B[0m. Use \u001B[1m`wandb login --relogin`\u001B[0m to force relogin\n"
     ]
    },
    {
     "data": {
      "text/html": [
       "Tracking run with wandb version 0.13.3"
      ],
      "text/plain": [
       "<IPython.core.display.HTML object>"
      ]
     },
     "metadata": {},
     "output_type": "display_data"
    },
    {
     "data": {
      "text/html": [
       "Run data is saved locally in <code>/media/mugan/data/wandb/projects/semplify/notebooks/wandb/run-20220922_205434-3ewfoqdy</code>"
      ],
      "text/plain": [
       "<IPython.core.display.HTML object>"
      ]
     },
     "metadata": {},
     "output_type": "display_data"
    },
    {
     "data": {
      "text/html": [
       "Syncing run <strong><a href=\"https://wandb.ai/parambharat/semplify/runs/3ewfoqdy\" target=\"_blank\">data_collection</a></strong> to <a href=\"https://wandb.ai/parambharat/semplify\" target=\"_blank\">Weights & Biases</a> (<a href=\"https://wandb.me/run\" target=\"_blank\">docs</a>)<br/>"
      ],
      "text/plain": [
       "<IPython.core.display.HTML object>"
      ]
     },
     "metadata": {},
     "output_type": "display_data"
    }
   ],
   "source": [
    "run = wandb.init(project=PROJECT_NAME, name=\"data_collection\")"
   ]
  },
  {
   "cell_type": "code",
   "execution_count": 4,
   "id": "41926022",
   "metadata": {},
   "outputs": [
    {
     "name": "stdout",
     "output_type": "stream",
     "text": [
      "Finished, 19 results\r\n"
     ]
    }
   ],
   "source": [
    "tweet_query = \"pip install wandb from:weights_biases\"\n",
    "raw_tweets_file = \"../data/raw_tweets.jsonl\"\n",
    "\n",
    "!snscrape \\\n",
    "--jsonl \\\n",
    "--progress \\\n",
    "--max-results 100 \\\n",
    "--since 2019-06-01 \\\n",
    "twitter-search \"{tweet_query}\" > {raw_tweets_file}"
   ]
  },
  {
   "cell_type": "code",
   "execution_count": 5,
   "id": "5561edfa",
   "metadata": {},
   "outputs": [
    {
     "data": {
      "text/plain": [
       "<ManifestEntry digest: g3zyvMi2nehvc90lFGmE2A==>"
      ]
     },
     "execution_count": 5,
     "metadata": {},
     "output_type": "execute_result"
    }
   ],
   "source": [
    "raw_artifacts = wandb.Artifact(\"raw_dataset\", type=\"dataset\")\n",
    "raw_artifacts.add_file(raw_tweets_file, name=\"scraped_tweets\")"
   ]
  },
  {
   "cell_type": "markdown",
   "id": "f71588b8",
   "metadata": {},
   "source": [
    "###  Extract semver"
   ]
  },
  {
   "cell_type": "code",
   "execution_count": 6,
   "id": "7c8c0a6d",
   "metadata": {},
   "outputs": [],
   "source": [
    "\n",
    "def safe_extract_semvar(x):\n",
    "    try:\n",
    "        return Version(x)\n",
    "    except ValueError:\n",
    "        return None\n",
    "\n",
    "SEMVER_REGEX = r\"(\\d+\\.\\d+[\\.\\d+]*)\"\n",
    "\n",
    "def load_tweet_data(fname):\n",
    "    df = pd.read_json(fname, lines=True, orient=\"records\")\n",
    "    df = df[[\"url\", \"content\", \"date\"]]\n",
    "    df[\"semver_str\"] = df[\"content\"].str.extract(SEMVER_REGEX)\n",
    "    df = df[~df[\"semver_str\"].isna()]\n",
    "    df[\"semver\"] = df[\"semver_str\"].map(safe_extract_semvar)\n",
    "    df = df[~df[\"semver\"].isna()]\n",
    "    df = (df\n",
    "          .drop(\"semver\", axis=1)\n",
    "          .rename({\"semver_str\": \"semver\", \"content\": \"tweet\"}, axis=1))\n",
    "    df = df.sort_values(\"date\")\n",
    "    return df"
   ]
  },
  {
   "cell_type": "code",
   "execution_count": 7,
   "id": "7749ee54",
   "metadata": {},
   "outputs": [
    {
     "data": {
      "text/plain": [
       "<ManifestEntry digest: 6rxkZcwwb4XMLodZqGUnzw==>"
      ]
     },
     "execution_count": 7,
     "metadata": {},
     "output_type": "execute_result"
    }
   ],
   "source": [
    "df = load_tweet_data(raw_tweets_file)\n",
    "raw_artifacts.add(wandb.Table(dataframe=df), name=\"enriched_tweets\")"
   ]
  },
  {
   "cell_type": "markdown",
   "id": "67023461",
   "metadata": {},
   "source": [
    "### Fetch release notes"
   ]
  },
  {
   "cell_type": "code",
   "execution_count": 8,
   "id": "dcee3d6f",
   "metadata": {},
   "outputs": [],
   "source": [
    "github_client = Github(os.environ['GH_TOKEN'])\n",
    "def load_from_tag(tag):\n",
    "    try:\n",
    "        release_data = (github_client\n",
    "                        .get_user(GH_USER)\n",
    "                        .get_repo(GH_REPO)\n",
    "                        .get_release(f\"v{tag}\"))\n",
    "        if release_data.body.strip():\n",
    "            release_notes = release_data.body\n",
    "            return release_notes\n",
    "    except Exception:\n",
    "        return None"
   ]
  },
  {
   "cell_type": "code",
   "execution_count": 10,
   "id": "f043fd5e",
   "metadata": {},
   "outputs": [],
   "source": [
    "def load_release_notes(df):\n",
    "    df[\"release_notes\"] = df[\"semver\"].map(load_from_tag)\n",
    "    df = df[~df[\"release_notes\"].isna()]\n",
    "    df = df.reset_index(drop=True)\n",
    "    return df"
   ]
  },
  {
   "cell_type": "code",
   "execution_count": 11,
   "id": "bed9ffcc",
   "metadata": {},
   "outputs": [],
   "source": [
    "tweet_html = \"\"\"<!DOCTYPE html>\n",
    "<html>\n",
    "  <head>\n",
    "    <title>Tweet</title>\n",
    "  </head>\n",
    "  <body>\n",
    "    <blockquote class=\"twitter-tweet\">{embedded_tweet}</blockquote>\n",
    "    <script\n",
    "      async\n",
    "      src=\"https://platform.twitter.com/widgets.js\"\n",
    "      charset=\"utf-8\"\n",
    "    ></script>\n",
    "  </body>\n",
    "</html>\"\"\""
   ]
  },
  {
   "cell_type": "code",
   "execution_count": 12,
   "id": "4e053d58",
   "metadata": {},
   "outputs": [],
   "source": [
    "df = load_release_notes(df)\n",
    "\n",
    "df[\"release_html\"] = (df[\"release_notes\"]\n",
    "                      .map(markdown.markdown)\n",
    "                      .map(wandb.Html))\n",
    "df[\"tweet_html\"] = (df[\"tweet\"]\n",
    "                    .str.replace(\"\\n\", \"</br>\")\n",
    "                    .map(markdown.markdown)\n",
    "                    .map(wandb.Html))"
   ]
  },
  {
   "cell_type": "code",
   "execution_count": 13,
   "id": "c715eac6",
   "metadata": {},
   "outputs": [
    {
     "data": {
      "text/plain": [
       "<ManifestEntry digest: zpWmuG/l+U/6CEMT2eB9zA==>"
      ]
     },
     "execution_count": 13,
     "metadata": {},
     "output_type": "execute_result"
    }
   ],
   "source": [
    "changelog_tweets_table = wandb.Table(dataframe=df)\n",
    "raw_artifacts.add(changelog_tweets_table, name=\"changelog_tweets\")"
   ]
  },
  {
   "cell_type": "code",
   "execution_count": 14,
   "id": "ab99e04b",
   "metadata": {},
   "outputs": [
    {
     "data": {
      "text/html": [
       "Waiting for W&B process to finish... <strong style=\"color:green\">(success).</strong>"
      ],
      "text/plain": [
       "<IPython.core.display.HTML object>"
      ]
     },
     "metadata": {},
     "output_type": "display_data"
    },
    {
     "data": {
      "application/vnd.jupyter.widget-view+json": {
       "model_id": "",
       "version_major": 2,
       "version_minor": 0
      },
      "text/plain": [
       "VBox(children=(Label(value='0.136 MB of 0.136 MB uploaded (0.000 MB deduped)\\r'), FloatProgress(value=1.0, max…"
      ]
     },
     "metadata": {},
     "output_type": "display_data"
    },
    {
     "data": {
      "text/html": [
       "Synced <strong style=\"color:#cdcd00\">data_collection</strong>: <a href=\"https://wandb.ai/parambharat/semplify/runs/3ewfoqdy\" target=\"_blank\">https://wandb.ai/parambharat/semplify/runs/3ewfoqdy</a><br/>Synced 6 W&B file(s), 0 media file(s), 29 artifact file(s) and 0 other file(s)"
      ],
      "text/plain": [
       "<IPython.core.display.HTML object>"
      ]
     },
     "metadata": {},
     "output_type": "display_data"
    },
    {
     "data": {
      "text/html": [
       "Find logs at: <code>./wandb/run-20220922_205434-3ewfoqdy/logs</code>"
      ],
      "text/plain": [
       "<IPython.core.display.HTML object>"
      ]
     },
     "metadata": {},
     "output_type": "display_data"
    }
   ],
   "source": [
    "wandb.log_artifact(raw_artifacts)\n",
    "wandb.finish()"
   ]
  },
  {
   "cell_type": "code",
   "execution_count": null,
   "id": "75053cf2",
   "metadata": {},
   "outputs": [],
   "source": []
  }
 ],
 "metadata": {
  "kernelspec": {
   "display_name": "Python 3 (ipykernel)",
   "language": "python",
   "name": "python3"
  },
  "language_info": {
   "codemirror_mode": {
    "name": "ipython",
    "version": 3
   },
   "file_extension": ".py",
   "mimetype": "text/x-python",
   "name": "python",
   "nbconvert_exporter": "python",
   "pygments_lexer": "ipython3",
   "version": "3.9.13"
  }
 },
 "nbformat": 4,
 "nbformat_minor": 5
}
