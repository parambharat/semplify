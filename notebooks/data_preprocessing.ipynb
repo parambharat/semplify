{
 "cells": [
  {
   "cell_type": "code",
   "execution_count": 1,
   "id": "2272b5f9",
   "metadata": {},
   "outputs": [],
   "source": [
    "import os\n",
    "import markdown\n",
    "from bs4 import BeautifulSoup\n",
    "import re\n",
    "import wandb\n",
    "import pandas as pd\n",
    "import emoji"
   ]
  },
  {
   "cell_type": "code",
   "execution_count": 2,
   "id": "73511f83",
   "metadata": {},
   "outputs": [],
   "source": [
    "PROJECT_NAME = \"semplify\""
   ]
  },
  {
   "cell_type": "code",
   "execution_count": 3,
   "id": "de3bff6f",
   "metadata": {},
   "outputs": [
    {
     "name": "stderr",
     "output_type": "stream",
     "text": [
      "\u001b[34m\u001b[1mwandb\u001b[0m: Currently logged in as: \u001b[33mparambharat\u001b[0m. Use \u001b[1m`wandb login --relogin`\u001b[0m to force relogin\n"
     ]
    },
    {
     "data": {
      "text/html": [
       "Tracking run with wandb version 0.13.3"
      ],
      "text/plain": [
       "<IPython.core.display.HTML object>"
      ]
     },
     "metadata": {},
     "output_type": "display_data"
    },
    {
     "data": {
      "text/html": [
       "Run data is saved locally in <code>/media/mugan/data/wandb/projects/semplify/notebooks/wandb/run-20220922_205801-3nw6yuhr</code>"
      ],
      "text/plain": [
       "<IPython.core.display.HTML object>"
      ]
     },
     "metadata": {},
     "output_type": "display_data"
    },
    {
     "data": {
      "text/html": [
       "Syncing run <strong><a href=\"https://wandb.ai/parambharat/semplify/runs/3nw6yuhr\" target=\"_blank\">data_processing</a></strong> to <a href=\"https://wandb.ai/parambharat/semplify\" target=\"_blank\">Weights & Biases</a> (<a href=\"https://wandb.me/run\" target=\"_blank\">docs</a>)<br/>"
      ],
      "text/plain": [
       "<IPython.core.display.HTML object>"
      ]
     },
     "metadata": {},
     "output_type": "display_data"
    }
   ],
   "source": [
    "run = wandb.init(project=PROJECT_NAME, name=\"data_processing\")"
   ]
  },
  {
   "cell_type": "markdown",
   "id": "a88c39c4",
   "metadata": {},
   "source": [
    "### Cleanup Change Log"
   ]
  },
  {
   "cell_type": "code",
   "execution_count": 4,
   "id": "dc8e6fdb",
   "metadata": {},
   "outputs": [],
   "source": [
    "USRBY_RE = r\"by \\@\\S+ in https\\S+$\" # by <user> in <pr>\n",
    "URL_RE = r\"in https\\S+\" # in <pr>\n",
    "CH_RE = \"^full changelog.*\" # Full Changelog: ...\n",
    "DATE_RE = r\"\\(\\w+ \\d+, \\d+\\)\" # (August 10, 2022)\n",
    "\n",
    "\n",
    "def cleanup_changelog(md_text):\n",
    "    html = markdown.markdown(md_text)\n",
    "    soup = BeautifulSoup(html, features=\"html.parser\")\n",
    "    text = re.sub(USRBY_RE, \"\", soup.text, 0, re.MULTILINE)\n",
    "    text = re.sub(URL_RE, \"\", text, 0, re.MULTILINE)\n",
    "    text = re.sub(CH_RE, \"\", text, 0, re.MULTILINE | re.IGNORECASE)\n",
    "    text = re.sub(DATE_RE, \"\", text, 0, re.MULTILINE | re.IGNORECASE)\n",
    "    text = text.strip()\n",
    "    text = map(lambda x: x.strip(), text.splitlines())\n",
    "    text = \"\\n\".join(text)\n",
    "    text = emoji.demojize(emoji.emojize(text, language=\"alias\"))\n",
    "    text = text.replace('&amp;', '&')\n",
    "    return text"
   ]
  },
  {
   "cell_type": "markdown",
   "id": "8d295035",
   "metadata": {},
   "source": [
    "### Cleanup Tweet"
   ]
  },
  {
   "cell_type": "code",
   "execution_count": 5,
   "id": "689b312f",
   "metadata": {},
   "outputs": [],
   "source": [
    "\n",
    "def cleanup_tweet(tweet_text):\n",
    "    tweet_content = tweet_text.splitlines()[1:-1]\n",
    "    tweet_content = \"\\n\".join(tweet_content).strip()\n",
    "    tweet_content = emoji.demojize(tweet_content)\n",
    "    tweet_content = tweet_content.replace(\":bug:\", \":beetle:\")\n",
    "    tweet_content = tweet_content.replace(\":sparkles:\", \":dizzy:\")\n",
    "    tweet_content = tweet_content.replace('&amp;', '&')\n",
    "    return tweet_content\n"
   ]
  },
  {
   "cell_type": "code",
   "execution_count": 6,
   "id": "22fa4e4e",
   "metadata": {},
   "outputs": [],
   "source": [
    "def cleanup_dataset(df):\n",
    "    # clean up the changelogs\n",
    "    df[\"cleaned_logs\"] = df[\"release_notes\"].map(cleanup_changelog)\n",
    "    cleaned_df = df[df[\"cleaned_logs\"].str.split().map(len) >50]\n",
    "    \n",
    "    # clean up the tweets\n",
    "    cleaned_df[\"cleaned_tweet\"] = cleaned_df[\"tweet\"].map(cleanup_tweet)\n",
    "    \n",
    "    cleaned_df = cleaned_df.reset_index(drop=True)\n",
    "    return cleaned_df"
   ]
  },
  {
   "cell_type": "code",
   "execution_count": 7,
   "id": "b7c84b16",
   "metadata": {},
   "outputs": [
    {
     "name": "stderr",
     "output_type": "stream",
     "text": [
      "/tmp/ipykernel_94310/2854276078.py:7: SettingWithCopyWarning: \n",
      "A value is trying to be set on a copy of a slice from a DataFrame.\n",
      "Try using .loc[row_indexer,col_indexer] = value instead\n",
      "\n",
      "See the caveats in the documentation: https://pandas.pydata.org/pandas-docs/stable/user_guide/indexing.html#returning-a-view-versus-a-copy\n",
      "  cleaned_df[\"cleaned_tweet\"] = cleaned_df[\"tweet\"].map(cleanup_tweet)\n"
     ]
    },
    {
     "data": {
      "text/plain": [
       "<ManifestEntry digest: 4lYqcH0IN9ZYzA43wKGsDA==>"
      ]
     },
     "execution_count": 7,
     "metadata": {},
     "output_type": "execute_result"
    }
   ],
   "source": [
    "raw_artifacts = wandb.use_artifact(\"raw_dataset:latest\")\n",
    "raw_artifacts = raw_artifacts.wait()\n",
    "\n",
    "raw_changelog_tweets = raw_artifacts.get(\"changelog_tweets\")\n",
    "raw_dataset = pd.DataFrame(\n",
    "    raw_changelog_tweets.data,\n",
    "    columns=raw_changelog_tweets.columns) \n",
    "\n",
    "cleaned_dataset = cleanup_dataset(raw_dataset)\n",
    "\n",
    "\n",
    "processed_artifacts = wandb.Artifact(\"processed_dataset\", type=\"dataset\")\n",
    "\n",
    "processed_artifacts.add(wandb.Table(dataframe=cleaned_dataset), name=\"cleaned_data\")"
   ]
  },
  {
   "cell_type": "code",
   "execution_count": 8,
   "id": "22a9d442",
   "metadata": {},
   "outputs": [],
   "source": [
    "## Prompt Creation"
   ]
  },
  {
   "cell_type": "code",
   "execution_count": 9,
   "id": "24bf72a3",
   "metadata": {},
   "outputs": [],
   "source": [
    "## Zero-shot Prompt"
   ]
  },
  {
   "cell_type": "code",
   "execution_count": 10,
   "id": "e921d219",
   "metadata": {},
   "outputs": [],
   "source": [
    "def make_zero_shot_prompt(row, add_start=True):\n",
    "    start_seq = \"summarize as a tweet:\\n\\n\"\n",
    "    log = row[\"cleaned_logs\"].strip()\n",
    "    prompt = \"[changelog]:\\n\\n\" + log + \"\\n\\n[tweet]:\\n\\n\"\n",
    "    if add_start:\n",
    "        prompt = start_seq + prompt\n",
    "    return prompt"
   ]
  },
  {
   "cell_type": "code",
   "execution_count": 11,
   "id": "60b235d6",
   "metadata": {},
   "outputs": [
    {
     "data": {
      "text/plain": [
       "<ManifestEntry digest: ep4Wv0zj2uviyCd3rwdQmQ==>"
      ]
     },
     "execution_count": 11,
     "metadata": {},
     "output_type": "execute_result"
    }
   ],
   "source": [
    "cleaned_dataset[\"prompt\"] = cleaned_dataset.apply(\n",
    "    make_zero_shot_prompt, axis=1)\n",
    "processed_artifacts.add(\n",
    "    wandb.Table(dataframe=cleaned_dataset), name=\"zeroshot_dataset\")"
   ]
  },
  {
   "cell_type": "code",
   "execution_count": 12,
   "id": "11df16c4",
   "metadata": {},
   "outputs": [],
   "source": [
    "def make_one_shot_prompt(row):\n",
    "    start_seq = \"summarize as a tweet:\\n\\n\"\n",
    "    log = row[\"cleaned_logs\"].strip()\n",
    "    tweet = row[\"cleaned_tweet\"]\n",
    "    prompt = start_seq + \"[changelog]:\\n\\n\" + log + \"\\n\\n[tweet]:\\n\\n\" + tweet + \"\\n\\n###\\n\\n\"\n",
    "    return prompt\n",
    "\n",
    "def make_one_shot_dataset(dataset):\n",
    "    records = []\n",
    "    prompts = []\n",
    "    for idx in range(1, len(dataset)):\n",
    "        current_row = dataset.iloc[idx]\n",
    "        previous_row = dataset.iloc[idx-1]\n",
    "        first_half = make_one_shot_prompt(previous_row)\n",
    "        second_half = make_zero_shot_prompt(current_row, add_start=False)\n",
    "        prompt = first_half + second_half\n",
    "        prompts.append(prompt)\n",
    "        records.append(current_row)\n",
    "    data = pd.DataFrame(records)\n",
    "    data[\"prompt\"] = prompts\n",
    "    return data\n",
    "    "
   ]
  },
  {
   "cell_type": "code",
   "execution_count": 13,
   "id": "83c2847f",
   "metadata": {},
   "outputs": [],
   "source": [
    "one_shot_dataset = make_one_shot_dataset(cleaned_dataset)"
   ]
  },
  {
   "cell_type": "code",
   "execution_count": 14,
   "id": "27eb3026",
   "metadata": {},
   "outputs": [
    {
     "data": {
      "text/plain": [
       "<wandb.sdk.wandb_artifacts.Artifact at 0x7fdcbb803100>"
      ]
     },
     "execution_count": 14,
     "metadata": {},
     "output_type": "execute_result"
    }
   ],
   "source": [
    "processed_artifacts.add(\n",
    "    wandb.Table(dataframe=one_shot_dataset), name=\"oneshot_dataset\")\n",
    "wandb.log_artifact(processed_artifacts)"
   ]
  },
  {
   "cell_type": "code",
   "execution_count": 15,
   "id": "d7e0b850",
   "metadata": {},
   "outputs": [
    {
     "data": {
      "text/html": [
       "Waiting for W&B process to finish... <strong style=\"color:green\">(success).</strong>"
      ],
      "text/plain": [
       "<IPython.core.display.HTML object>"
      ]
     },
     "metadata": {},
     "output_type": "display_data"
    },
    {
     "data": {
      "application/vnd.jupyter.widget-view+json": {
       "model_id": "",
       "version_major": 2,
       "version_minor": 0
      },
      "text/plain": [
       "VBox(children=(Label(value='0.184 MB of 0.184 MB uploaded (0.000 MB deduped)\\r'), FloatProgress(value=1.0, max…"
      ]
     },
     "metadata": {},
     "output_type": "display_data"
    },
    {
     "data": {
      "text/html": [
       "Synced <strong style=\"color:#cdcd00\">data_processing</strong>: <a href=\"https://wandb.ai/parambharat/semplify/runs/3nw6yuhr\" target=\"_blank\">https://wandb.ai/parambharat/semplify/runs/3nw6yuhr</a><br/>Synced 6 W&B file(s), 0 media file(s), 3 artifact file(s) and 0 other file(s)"
      ],
      "text/plain": [
       "<IPython.core.display.HTML object>"
      ]
     },
     "metadata": {},
     "output_type": "display_data"
    },
    {
     "data": {
      "text/html": [
       "Find logs at: <code>./wandb/run-20220922_205801-3nw6yuhr/logs</code>"
      ],
      "text/plain": [
       "<IPython.core.display.HTML object>"
      ]
     },
     "metadata": {},
     "output_type": "display_data"
    }
   ],
   "source": [
    "wandb.finish()"
   ]
  }
 ],
 "metadata": {
  "kernelspec": {
   "display_name": "Python 3 (ipykernel)",
   "language": "python",
   "name": "python3"
  },
  "language_info": {
   "codemirror_mode": {
    "name": "ipython",
    "version": 3
   },
   "file_extension": ".py",
   "mimetype": "text/x-python",
   "name": "python",
   "nbconvert_exporter": "python",
   "pygments_lexer": "ipython3",
   "version": "3.9.13"
  }
 },
 "nbformat": 4,
 "nbformat_minor": 5
}
